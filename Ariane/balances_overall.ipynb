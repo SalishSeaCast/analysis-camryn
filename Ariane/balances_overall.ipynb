{
 "cells": [
  {
   "cell_type": "code",
   "execution_count": 1,
   "metadata": {},
   "outputs": [],
   "source": [
    "import numpy as np\n",
    "import matplotlib.pyplot as plt\n",
    "import arrow\n",
    "import datetime\n",
    "import xarray as xr\n",
    "import os\n",
    "import cmocean.cm as cm\n",
    "import matplotlib.cm as cma\n",
    "import scipy.interpolate as interp\n",
    "from matplotlib.collections import PatchCollection\n",
    "import matplotlib.dates as mpl_dates\n",
    "from matplotlib.ticker import ScalarFormatter\n",
    "from matplotlib.ticker import FormatStrFormatter\n",
    "import datetime as dt"
   ]
  },
  {
   "cell_type": "markdown",
   "metadata": {},
   "source": [
    "### Functions"
   ]
  },
  {
   "cell_type": "code",
   "execution_count": 2,
   "metadata": {},
   "outputs": [],
   "source": [
    "#Function to extract data from 1 section\n",
    "def get_secdata(datafile,sectionnum):\n",
    "    \n",
    "    variables = ['final_salt','final_transp','final_lon','final_lat','final_depth','final_section','final_z','final_temp','init_lon','init_z','init_salt','init_temp','init_transp','final_age']\n",
    "    \n",
    "    dict_var = {}\n",
    "    \n",
    "    idx = np.where(datafile['final_section']==sectionnum)\n",
    "    \n",
    "    for var in variables:\n",
    "        if var == 'final_age':\n",
    "            agetd = datafile[var].values\n",
    "            agehr = agetd.astype('float64')/(10**9*3600)\n",
    "            age = agehr[idx]\n",
    "            dict_var[var] = age\n",
    "        else:\n",
    "            data_sec = datafile[var]\n",
    "            dict_var[var] = data_sec[idx]\n",
    "        \n",
    "    \n",
    "    return dict_var\n",
    "\n",
    "def plotCS(axv,lonsec,zsec,transpsec,lonW,lonE,depi,vmax,time,title,cblabel,ylabel):\n",
    "    \n",
    "    cmap = cm.deep\n",
    "    \n",
    "    m2lon = ((u_lons[lonE]-u_lons[lonW])/(mesh.e2f[0, latgridi, lonW:lonE].sum())).values #degrees/m\n",
    "    \n",
    "    arr,xe,ye,im = axv.hist2d(lonsec/m2lon,df(zsec)[0],weights=transpsec,cmap=cmap,bins=[np.array(f_lons[lonW:lonE:1]/m2lon),w_depths[0,0:depi]],\n",
    "                              density=True,vmax=vmax\n",
    "                                )\n",
    "    \n",
    "    X,Y = np.meshgrid(xe,ye)\n",
    "    \n",
    "    im = axv.pcolormesh(X,Y,arr.T*np.sum(transpsec/time).values,cmap=cmap,vmax=vmax)\n",
    "    \n",
    "    axv.invert_yaxis()\n",
    "    axv.set_title(title)\n",
    "    axv.set_xlabel('Longitude (°E)')\n",
    "    axv.set_xticks(np.linspace(f_lons[lonW]/m2lon,f_lons[lonE-1]/m2lon,4))\n",
    "    axv.xaxis.set_major_formatter(FormatStrFormatter(f\"%.{2}f\"))\n",
    "    axv.set_xticklabels(['{:.2f}'.format(label) for label in np.linspace(f_lons[lonW],f_lons[lonE-1],4)])\n",
    "    # axv.set_xticklabels(np.round(np.linspace(f_lons[lonW],f_lons[lonE-1],4),2))\n",
    "    \n",
    "    \n",
    "    if cblabel == True:\n",
    "        cb = fig.colorbar(im,ax=axv)\n",
    "        cb.set_label('Transport (m/s)')\n",
    "    \n",
    "    if ylabel == True:\n",
    "        axv.set_ylabel('Depth (m)')\n",
    "\n",
    "def plotTS(axn,var,lonsec,zsec,varsec,lonW,lonE,depi,time,title,cblabel,ylabel,vmin=None,vmax=None):\n",
    "    \n",
    "    cmap = cm.deep\n",
    "    \n",
    "    m2lon = ((u_lons[lonE]-u_lons[lonW])/(mesh.e2f[0, latgridi, lonW:lonE].sum())).values #degrees/m\n",
    "    \n",
    "    arrw,xe,ye,im = axn.hist2d(lonsec/m2lon,df(zsec)[0],weights=varsec,cmap=cmap,bins=[np.array(f_lons[lonW:lonE:1]/m2lon),w_depths[0,0:depi]])\n",
    "    arrnw,xe2,ye2,im2 = axn.hist2d(lonsec/m2lon,df(zsec)[0],cmap=cmap,bins=[np.array(f_lons[lonW:lonE:1]/m2lon),w_depths[0,0:depi]])\n",
    "    \n",
    "    arr3 = arrw/arrnw\n",
    "    \n",
    "    X,Y = np.meshgrid(xe,ye)\n",
    "    \n",
    "    im = axn.pcolormesh(X,Y,arr3.T,vmin=vmin,vmax=vmax)\n",
    "    axn.set_xlabel('Longitude (°E)')\n",
    "    axn.set_title(title)\n",
    "    axn.invert_yaxis()\n",
    "    axn.set_xticks(np.linspace(f_lons[lonW]/m2lon,f_lons[lonE-1]/m2lon,4))\n",
    "    axn.set_xticklabels(['{:.2f}'.format(label) for label in np.linspace(f_lons[lonW],f_lons[lonE-1],4)])\n",
    "    \n",
    "    if cblabel == True:\n",
    "        cb = fig.colorbar(im,ax=axn)\n",
    "        \n",
    "        if var == 'temp':\n",
    "            cb.set_label('Temperature (°C)')\n",
    "        if var == 'sal':\n",
    "            cb.set_label('Salinity (g/kg)')\n",
    "            \n",
    "    if ylabel == True:\n",
    "        axn.set_ylabel('Depth (m)')\n",
    "        \n",
    "def get_datat(datafile,section, starttime, endtime):\n",
    "    final_section = datafile.final_section\n",
    "    final_transport = datafile.final_transp\n",
    "    transports = np.sum(np.where(final_section == section, final_transport, 0)) \n",
    "    return transports/(endtime-starttime+1)\n",
    "\n",
    "def running_mean(data, window_size):\n",
    "    cumsum = np.cumsum(data)\n",
    "    cumsum[window_size:] = cumsum[window_size:] - cumsum[:-window_size]\n",
    "    return cumsum[window_size - 1:] / window_size"
   ]
  },
  {
   "cell_type": "code",
   "execution_count": 3,
   "metadata": {},
   "outputs": [],
   "source": [
    "data = xr.open_dataset('/ocean/cstang/MOAD/analysis-camryn/Ariane/for_jan18/for_straight_01jan18_s7t28/ariane_positions_quantitative.nc')\n",
    "mesh = xr.open_dataset('/home/sallen/MEOPAR/grid/mesh_mask202108.nc')\n",
    "\n",
    "lonW = 308\n",
    "lonE = 327\n",
    "latgridi = 300\n",
    "latgridf = latgridi-1\n",
    "fmask = mesh.fmask[0, :, latgridi]\n",
    "tmask = mesh.tmask[0]\n",
    "    \n",
    "lons = data.init_lon[(data.final_section != 0)]\n",
    "    \n",
    "f_lons = mesh.glamf[0, latgridi]\n",
    "u_lons = mesh.glamv[0, latgridi]\n",
    "w_depths = mesh.gdepw_1d\n",
    "\n",
    "m2lon = ((u_lons[lonE]-u_lons[lonW])/(mesh.e2f[0, latgridi, lonW:lonE].sum())).values #degrees/m\n",
    "\n",
    "df = interp.interp1d(mesh.z,mesh.gdepw_1d) # Interpolate to get same binning scheme as SalishSeaCast"
   ]
  },
  {
   "cell_type": "markdown",
   "metadata": {},
   "source": [
    "### Importing data"
   ]
  },
  {
   "cell_type": "code",
   "execution_count": 112,
   "metadata": {},
   "outputs": [],
   "source": [
    "##Forwards - through haro\n",
    "#Jan\n",
    "datafvs_haro = xr.open_dataset('/ocean/cstang/MOAD/analysis-camryn/Ariane/forVStoPR_haro/for_straight_01jan18_s7t35/ariane_positions_quantitative.nc')\n",
    "datafrosS_haro = xr.open_dataset('/ocean/cstang/MOAD/analysis-camryn/Ariane/forrosS_haro/for_straight_01jan18_s7t35/ariane_positions_quantitative.nc')\n",
    "datafrosN_haro = xr.open_dataset('/ocean/cstang/MOAD/analysis-camryn/Ariane/forrosN_haro/for_straight_01jan18_s7t35/ariane_positions_quantitative.nc')\n",
    "datafsjcN_haro = xr.open_dataset('/ocean/cstang/MOAD/analysis-camryn/Ariane/forsjcN_haro/for_straight_01jan18_s7t35/ariane_positions_quantitative.nc')\n",
    "datafsjcS_haro = xr.open_dataset('/ocean/cstang/MOAD/analysis-camryn/Ariane/forsjcS_haro/for_straight_01jan18_s7t35/ariane_positions_quantitative.nc')\n",
    "datafpr_haro = xr.open_dataset('/ocean/cstang/MOAD/analysis-camryn/Ariane/forPR_haro/for_straight_01jan18_s7t35/ariane_positions_quantitative.nc')\n",
    "datafadm_haro = xr.open_dataset('/ocean/cstang/MOAD/analysis-camryn/Ariane/foradm_haro/for_straight_01jan18_s7t35/ariane_positions_quantitative.nc')\n",
    "datafgulf_haro = xr.open_dataset('/ocean/cstang/MOAD/analysis-camryn/Ariane/forgulf_haro/for_straight_01jan18_s7t35/ariane_positions_quantitative.nc')\n",
    "\n",
    "#Jul\n",
    "datafvs_haro07 = xr.open_dataset('/ocean/cstang/MOAD/analysis-camryn/Ariane/forVStoPR_haro/for_straight_01jul18_s7t35/ariane_positions_quantitative.nc')\n",
    "datafpr_haro07 = xr.open_dataset('/ocean/cstang/MOAD/analysis-camryn/Ariane/forPR_haro/for_straight_01jul18_s7t35/ariane_positions_quantitative.nc')\n",
    "datafadm_haro07 = xr.open_dataset('/ocean/cstang/MOAD/analysis-camryn/Ariane/foradm_haro/for_straight_01jul18_s7t35/ariane_positions_quantitative.nc')\n",
    "datafgulf_haro07 = xr.open_dataset('/ocean/cstang/MOAD/analysis-camryn/Ariane/forgulf_haro/for_straight_01jul18_s7t35/ariane_positions_quantitative.nc')\n",
    "\n",
    "##Forwards - through rosario\n",
    "datafvs_ros = xr.open_dataset('/ocean/cstang/MOAD/analysis-camryn/Ariane/forVStoPR_ros/for_straight_01jan18_s7t35/ariane_positions_quantitative.nc')\n",
    "datafharoS_ros = xr.open_dataset('/ocean/cstang/MOAD/analysis-camryn/Ariane/forharoS_ros/for_straight_01jan18_s7t35/ariane_positions_quantitative.nc')\n",
    "datafharoN_ros = xr.open_dataset('/ocean/cstang/MOAD/analysis-camryn/Ariane/forharoN_ros/for_straight_01jan18_s7t35/ariane_positions_quantitative.nc')\n",
    "datafsjcN_ros = xr.open_dataset('/ocean/cstang/MOAD/analysis-camryn/Ariane/forsjcN_ros/for_straight_01jan18_s7t35/ariane_positions_quantitative.nc')\n",
    "datafsjcS_ros = xr.open_dataset('/ocean/cstang/MOAD/analysis-camryn/Ariane/forsjcS_ros/for_straight_01jan18_s7t35/ariane_positions_quantitative.nc')\n",
    "datafpr_ros = xr.open_dataset('/ocean/cstang/MOAD/analysis-camryn/Ariane/forpr_ros/for_straight_01jan18_s7t35/ariane_positions_quantitative.nc')\n",
    "datafadm_ros = xr.open_dataset('/ocean/cstang/MOAD/analysis-camryn/Ariane/foradm_ros/for_straight_01jan18_s7t35/ariane_positions_quantitative.nc')\n",
    "datafsjcE_ros = xr.open_dataset('/ocean/cstang/MOAD/analysis-camryn/Ariane/forsjcE_ros/for_straight_01jan18_s7t35/ariane_positions_quantitative.nc')\n",
    "datafgulf_ros = xr.open_dataset('/ocean/cstang/MOAD/analysis-camryn/Ariane/forgulf_ros/for_straight_01jan18_s7t35/ariane_positions_quantitative.nc')\n",
    "\n",
    "#Jul\n",
    "datafvs_ros07 = xr.open_dataset('/ocean/cstang/MOAD/analysis-camryn/Ariane/forVStoPR_ros/for_straight_01jul18_s7t35/ariane_positions_quantitative.nc')\n",
    "datafpr_ros07 = xr.open_dataset('/ocean/cstang/MOAD/analysis-camryn/Ariane/forpr_ros/for_straight_01jul18_s7t35/ariane_positions_quantitative.nc')\n",
    "datafadm_ros07 = xr.open_dataset('/ocean/cstang/MOAD/analysis-camryn/Ariane/foradm_ros/for_straight_01jul18_s7t35/ariane_positions_quantitative.nc')\n",
    "datafgulf_ros07 = xr.open_dataset('/ocean/cstang/MOAD/analysis-camryn/Ariane/forgulf_ros/for_straight_01jul18_s7t35/ariane_positions_quantitative.nc')\n",
    "\n",
    "#Forwards - through sjc\n",
    "datafvs_sjc = xr.open_dataset('/ocean/cstang/MOAD/analysis-camryn/Ariane/forVStoPR_sjc/for_straight_01jan18_s7t35/ariane_positions_quantitative.nc')\n",
    "datafpr_sjc = xr.open_dataset('/ocean/cstang/MOAD/analysis-camryn/Ariane/forpr_sjc/for_straight_01jan18_s7t35/ariane_positions_quantitative.nc')\n",
    "datafadm_sjc = xr.open_dataset('/ocean/cstang/MOAD/analysis-camryn/Ariane/foradm_sjc/for_straight_01jan18_s7t35/ariane_positions_quantitative.nc')\n",
    "datafgulf_sjc = xr.open_dataset('/ocean/cstang/MOAD/analysis-camryn/Ariane/forgulf_sjc/for_straight_01jan18_s7t35/ariane_positions_quantitative.nc')\n",
    "\n",
    "#Jul\n",
    "datafvs_sjc07 = xr.open_dataset('/ocean/cstang/MOAD/analysis-camryn/Ariane/forVStoPR_sjc/for_straight_01jul18_s7t35/ariane_positions_quantitative.nc')\n",
    "datafpr_sjc07 = xr.open_dataset('/ocean/cstang/MOAD/analysis-camryn/Ariane/forpr_sjc/for_straight_01jul18_s7t35/ariane_positions_quantitative.nc')\n",
    "datafadm_sjc07 = xr.open_dataset('/ocean/cstang/MOAD/analysis-camryn/Ariane/foradm_sjc/for_straight_01jul18_s7t35/ariane_positions_quantitative.nc')\n",
    "datafgulf_sjc07 = xr.open_dataset('/ocean/cstang/MOAD/analysis-camryn/Ariane/forgulf_sjc/for_straight_01jul18_s7t35/ariane_positions_quantitative.nc')\n",
    "\n",
    "data_dict = {'datafvs_haro':datafvs_haro,'datafrosS_haro':datafrosS_haro,'datafrosN_haro':datafrosN_haro,\n",
    "             'datafsjcS_haro':datafsjcS_haro,'datafsjcN_haro':datafsjcN_haro,'datafpr_haro':datafpr_haro,\n",
    "             'datafadm_haro':datafadm_haro,'datafgulf_haro':datafgulf_haro,'datafvs_ros':datafvs_ros,\n",
    "             'datafharoS_ros':datafharoS_ros,'datafharoN_ros':datafharoN_ros,\n",
    "             'datafsjcS_ros':datafsjcS_ros,'datafsjcN_ros':datafsjcN_ros,'datafpr_ros':datafpr_ros,\n",
    "             'datafadm_ros':datafadm_ros,'datafsjcE_ros':datafsjcE_ros,'datafgulf_ros':datafgulf_ros,'datafpr_sjc':datafpr_sjc,'datafvs_sjc':datafvs_sjc,\n",
    "             'datafadm_sjc':datafadm_sjc,'datafgulf_sjc':datafgulf_sjc,\n",
    "             'datafvs_haro07':datafvs_haro07,'datafpr_haro07':datafpr_haro07,'datafadm_haro07':datafadm_haro07,'datafgulf_haro07':datafgulf_haro07,\n",
    "             'datafvs_ros07':datafvs_ros07,'datafpr_ros07':datafpr_ros07,'datafadm_ros07':datafadm_ros07,'datafgulf_ros07':datafgulf_ros07,\n",
    "             'datafvs_sjc07':datafvs_sjc07,'datafpr_sjc07':datafpr_sjc07,'datafadm_sjc07':datafadm_sjc07,'datafgulf_sjc07':datafgulf_sjc07\n",
    "}"
   ]
  },
  {
   "cell_type": "code",
   "execution_count": 117,
   "metadata": {},
   "outputs": [
    {
     "data": {
      "text/plain": [
       "[586821.0150852797,\n",
       " 30274.08777043887,\n",
       " 82.67995097657958,\n",
       " 6620.950452696759,\n",
       " 4528.353527573104,\n",
       " 11407.137016338891,\n",
       " 2276.9370856140063,\n",
       " 9784.587192577223,\n",
       " 8902.40378961045]"
      ]
     },
     "execution_count": 117,
     "metadata": {},
     "output_type": "execute_result"
    }
   ],
   "source": [
    "starttime = 1\n",
    "endtime = 168\n",
    "\n",
    "sectionnum = [0,2,3,4,5,6,7,8,9]\n",
    "\n",
    "var = ['section_transpfvs_haro','section_transpfrosS_haro','section_transpfrosN_haro','section_transpfsjcS_haro','section_transpfsjcN_haro','section_transpfpr_haro',\n",
    "       'section_transpfadm_haro','section_transpfgulf_haro','section_transpfvs_ros',\n",
    "       'section_transpfharoS_ros','section_transpfharoN_ros','section_transpfsjcS_ros','section_transpfsjcN_ros','section_transpfpr_ros',\n",
    "       'section_transpfadm_ros','section_transpfsjcE_ros','section_transpfgulf_ros','section_transpfvs_sjc','section_transpfpr_sjc','section_transpfadm_sjc','section_transpfgulf_sjc',\n",
    "       'fvs_haro07','fpr_haro07','fadm_haro07','fgulf_haro07','fvs_ros07','fpr_ros07','fadm_ros07','fgulf_ros07',\n",
    "       'fvs_sjc07','fpr_sjc07','fadm_sjc07','fgulf_sjc07'\n",
    "       ]\n",
    "data_name = ['datafvs_haro','datafrosS_haro','datafrosN_haro','datafsjcS_haro','datafsjcN_haro','datafpr_haro','datafadm_haro','datafgulf_haro','datafvs_ros',\n",
    "             'datafharoS_ros','datafharoN_ros','datafsjcS_ros','datafsjcN_ros','datafpr_ros','datafadm_ros','datafsjcE_ros','datafgulf_ros','datafvs_sjc','datafpr_sjc','datafadm_sjc','datafgulf_sjc',\n",
    "             'datafvs_haro07','datafpr_haro07','datafadm_haro07','datafgulf_haro07','datafvs_ros07','datafpr_ros07','datafadm_ros07','datafgulf_ros07','datafvs_sjc07','datafpr_sjc07','datafadm_sjc07','datafgulf_sjc07'\n",
    "             ]\n",
    "\n",
    "dict_sectiontransp = {}\n",
    "\n",
    "for i in range(len(var)):\n",
    "    variable_name = var[i]\n",
    "    \n",
    "    if variable_name not in dict_sectiontransp:\n",
    "        dict_sectiontransp[variable_name] = []\n",
    "    \n",
    "    for section in sectionnum:\n",
    "        dict_sectiontransp[variable_name].append(get_datat(data_dict[data_name[i]],section,starttime,endtime))\n",
    "\n",
    "\n",
    "dict_sectiontransp['section_transpfvs_haro']"
   ]
  },
  {
   "cell_type": "markdown",
   "metadata": {},
   "source": [
    "### Balance - through haro (Jan)"
   ]
  },
  {
   "cell_type": "code",
   "execution_count": 7,
   "metadata": {},
   "outputs": [
    {
     "name": "stdout",
     "output_type": "stream",
     "text": [
      "Leaving VicSill: 73877.13678582589\n",
      "Leaving Rosario South: 29700.50685782249\n",
      "Leaving Rosario North: 17424.911073959425\n",
      "Leaving SJC North: 19852.57276823152\n",
      "Leaving SJC South: 20241.403913715232\n",
      "Leaving PointRob: 42429.23740216669\n",
      "Leaving Admiralty: 45472.464828354714\n",
      "Leaving Gulf: 13058.496779187268\n",
      "Total: 262056.73040926323 \n",
      "\n",
      "Entering Victoria: 79909.29892543705\n",
      "Entering Rosario South: 13046.202583961493\n",
      "Entering Rosario North: 35138.00031096685\n",
      "Entering SJC North: 25357.13634108599\n",
      "Entering SJC South: 16549.899183679714\n",
      "Entering PointRob: 38826.51915249656\n",
      "Entering Admiralty: 76410.46736214634\n",
      "Entering Gulf: 11198.419628682645\n",
      "Total: 296435.94348845666\n"
     ]
    }
   ],
   "source": [
    "leave_vic = np.sum(dict_sectiontransp['section_transpfvs_haro'][1:])\n",
    "ent_vic = np.sum([dict_sectiontransp['section_transpfrosS_haro'][4-1],dict_sectiontransp['section_transpfrosN_haro'][8-1],dict_sectiontransp['section_transpfsjcS_haro'][5-1],dict_sectiontransp['section_transpfsjcN_haro'][9-1],dict_sectiontransp['section_transpfpr_haro'][6-1],dict_sectiontransp['section_transpfadm_haro'][1],dict_sectiontransp['section_transpfgulf_haro'][6]])\n",
    "\n",
    "leave_rosS = np.sum(dict_sectiontransp['section_transpfrosS_haro'][1:])\n",
    "ent_rosS = np.sum([dict_sectiontransp['section_transpfrosN_haro'][3],dict_sectiontransp['section_transpfsjcS_haro'][3],dict_sectiontransp['section_transpfsjcN_haro'][3],dict_sectiontransp['section_transpfvs_haro'][3],dict_sectiontransp['section_transpfpr_haro'][3],dict_sectiontransp['section_transpfadm_haro'][3],dict_sectiontransp['section_transpfgulf_haro'][3]])\n",
    "\n",
    "leave_rosN = np.sum(dict_sectiontransp['section_transpfrosN_haro'][1:])\n",
    "ent_rosN = np.sum([dict_sectiontransp['section_transpfvs_haro'][7],dict_sectiontransp['section_transpfrosS_haro'][7],dict_sectiontransp['section_transpfsjcS_haro'][7],dict_sectiontransp['section_transpfsjcN_haro'][7],dict_sectiontransp['section_transpfpr_haro'][7],dict_sectiontransp['section_transpfadm_haro'][7],dict_sectiontransp['section_transpfgulf_haro'][7]])\n",
    "\n",
    "leave_sjcN = np.sum(dict_sectiontransp['section_transpfsjcN_haro'][1:])\n",
    "ent_sjcN = np.sum([dict_sectiontransp['section_transpfvs_haro'][8],dict_sectiontransp['section_transpfrosS_haro'][8],dict_sectiontransp['section_transpfrosN_haro'][8],dict_sectiontransp['section_transpfsjcS_haro'][8],dict_sectiontransp['section_transpfpr_haro'][8],dict_sectiontransp['section_transpfadm_haro'][8],dict_sectiontransp['section_transpfgulf_haro'][8]])\n",
    "\n",
    "leave_sjcS = np.sum(dict_sectiontransp['section_transpfsjcS_haro'][1:])\n",
    "ent_sjcS = np.sum([dict_sectiontransp['section_transpfvs_haro'][4],dict_sectiontransp['section_transpfrosS_haro'][4],dict_sectiontransp['section_transpfrosN_haro'][4],dict_sectiontransp['section_transpfsjcN_haro'][4],dict_sectiontransp['section_transpfpr_haro'][4],dict_sectiontransp['section_transpfadm_haro'][4],dict_sectiontransp['section_transpfgulf_haro'][4]])\n",
    "\n",
    "leave_pr = np.sum(dict_sectiontransp['section_transpfpr_haro'][1:])\n",
    "ent_pr = np.sum([dict_sectiontransp['section_transpfvs_haro'][5],dict_sectiontransp['section_transpfrosS_haro'][5],dict_sectiontransp['section_transpfrosN_haro'][5],dict_sectiontransp['section_transpfsjcN_haro'][5],dict_sectiontransp['section_transpfsjcS_haro'][5],dict_sectiontransp['section_transpfadm_haro'][5],dict_sectiontransp['section_transpfgulf_haro'][5]])\n",
    "\n",
    "leave_adm = np.sum(dict_sectiontransp['section_transpfadm_haro'][1:])\n",
    "ent_adm = np.sum([dict_sectiontransp['section_transpfvs_haro'][1],dict_sectiontransp['section_transpfrosS_haro'][1],dict_sectiontransp['section_transpfrosN_haro'][1],dict_sectiontransp['section_transpfsjcN_haro'][1],dict_sectiontransp['section_transpfsjcS_haro'][1],dict_sectiontransp['section_transpfadm_haro'][1],dict_sectiontransp['section_transpfgulf_haro'][1]])\n",
    "\n",
    "leave_gulf = np.sum(dict_sectiontransp['section_transpfgulf_haro'][1:])\n",
    "ent_gulf = np.sum([dict_sectiontransp['section_transpfvs_haro'][6],dict_sectiontransp['section_transpfrosS_haro'][6],dict_sectiontransp['section_transpfrosN_haro'][6],dict_sectiontransp['section_transpfsjcN_haro'][6],dict_sectiontransp['section_transpfsjcS_haro'][6],dict_sectiontransp['section_transpfadm_haro'][6],dict_sectiontransp['section_transpfgulf_haro'][6]])\n",
    "\n",
    "leave_total = np.sum([leave_rosS,leave_vic,leave_rosN,leave_sjcS,leave_sjcN,leave_pr,leave_adm,leave_gulf])\n",
    "ent_total = np.sum([ent_rosS,ent_vic,ent_sjcS,ent_pr,ent_rosN,ent_sjcN,ent_adm,ent_gulf])\n",
    "\n",
    "print('Leaving VicSill:',leave_vic)\n",
    "print('Leaving Rosario South:',leave_rosS)\n",
    "print('Leaving Rosario North:',leave_rosN)\n",
    "print('Leaving SJC North:',leave_sjcN)\n",
    "print('Leaving SJC South:',leave_sjcS)\n",
    "print('Leaving PointRob:',leave_pr)\n",
    "print('Leaving Admiralty:',leave_adm)\n",
    "print('Leaving Gulf:',leave_gulf)\n",
    "print('Total:',leave_total,'\\n')\n",
    "\n",
    "print('Entering Victoria:',ent_vic)\n",
    "print('Entering Rosario South:',ent_rosS)\n",
    "print('Entering Rosario North:',ent_rosN)\n",
    "print('Entering SJC North:',ent_sjcN)\n",
    "print('Entering SJC South:',ent_sjcS)\n",
    "print('Entering PointRob:',ent_pr)\n",
    "print('Entering Admiralty:',ent_adm)\n",
    "print('Entering Gulf:',ent_gulf)\n",
    "print('Total:',ent_total)"
   ]
  },
  {
   "cell_type": "markdown",
   "metadata": {},
   "source": [
    "### Balance - through rosario"
   ]
  },
  {
   "cell_type": "code",
   "execution_count": 8,
   "metadata": {},
   "outputs": [
    {
     "name": "stdout",
     "output_type": "stream",
     "text": [
      "Leaving VicSill: 114316.0161692239\n",
      "Leaving Haro South: 83130.57901289215\n",
      "Leaving Haro North: 66866.68323463583\n",
      "Leaving SJC North: 20491.315477049928\n",
      "Leaving SJC South: 20631.258550164523\n",
      "Leaving PointRob: 39916.346023425605\n",
      "Leaving Admiralty: 45661.30547301323\n",
      "Leaving SJC East: 1088.5854226449508\n",
      "Total: 342660.31720237376 \n",
      "\n",
      "Entering Victoria: 113838.81489232885\n",
      "Entering Haro South: 13046.202583961493\n",
      "Entering Haro North: 35138.00031096685\n",
      "Entering SJC North: 27486.099145457403\n",
      "Entering SJC South: 17528.349937262617\n",
      "Entering PointRob: 43806.159120358265\n",
      "Entering Admiralty: 40643.06126173254\n",
      "Entering SJC East: 709.9375714363499\n",
      "Total: 382374.21190624265\n"
     ]
    }
   ],
   "source": [
    "leave_vic = np.sum(dict_sectiontransp['section_transpfvs_ros'][1:])\n",
    "ent_vic = np.sum([dict_sectiontransp['section_transpfharoS_ros'][5],dict_sectiontransp['section_transpfharoN_ros'][7],dict_sectiontransp['section_transpfsjcS_ros'][4],dict_sectiontransp['section_transpfsjcN_ros'][8],dict_sectiontransp['section_transpfpr_ros'][3],dict_sectiontransp['section_transpfadm_ros'][1],dict_sectiontransp['section_transpfsjcE_ros'][2]])\n",
    "\n",
    "leave_haroS = np.sum(dict_sectiontransp['section_transpfharoS_ros'][1:])\n",
    "ent_haroS = np.sum([dict_sectiontransp['section_transpfvs_ros'][5],dict_sectiontransp['section_transpfharoN_ros'][5],dict_sectiontransp['section_transpfsjcS_ros'][5],dict_sectiontransp['section_transpfsjcN_ros'][5],dict_sectiontransp['section_transpfpr_ros'][5],dict_sectiontransp['section_transpfadm_ros'][5],dict_sectiontransp['section_transpfsjcE_ros'][5]])\n",
    "\n",
    "leave_haroN = np.sum(dict_sectiontransp['section_transpfharoN_ros'][1:])\n",
    "ent_haroN = np.sum([dict_sectiontransp['section_transpfharoS_ros'][5],dict_sectiontransp['section_transpfvs_ros'][5],dict_sectiontransp['section_transpfsjcS_ros'][5],dict_sectiontransp['section_transpfsjcN_ros'][5],dict_sectiontransp['section_transpfpr_ros'][5],dict_sectiontransp['section_transpfadm_ros'][5],dict_sectiontransp['section_transpfsjcE_ros'][5]])\n",
    "\n",
    "leave_sjcN = np.sum(dict_sectiontransp['section_transpfsjcN_ros'][1:])\n",
    "ent_sjcN = np.sum([dict_sectiontransp['section_transpfharoS_ros'][8],dict_sectiontransp['section_transpfharoN_ros'][8],dict_sectiontransp['section_transpfsjcS_ros'][8],dict_sectiontransp['section_transpfvs_ros'][8],dict_sectiontransp['section_transpfpr_ros'][8],dict_sectiontransp['section_transpfadm_ros'][8],dict_sectiontransp['section_transpfsjcE_ros'][8]])\n",
    "\n",
    "leave_sjcS = np.sum(dict_sectiontransp['section_transpfsjcS_ros'][1:])\n",
    "ent_sjcS = np.sum([dict_sectiontransp['section_transpfharoS_ros'][4],dict_sectiontransp['section_transpfharoN_ros'][4],dict_sectiontransp['section_transpfvs_ros'][4],dict_sectiontransp['section_transpfsjcN_ros'][4],dict_sectiontransp['section_transpfpr_ros'][4],dict_sectiontransp['section_transpfadm_ros'][4],dict_sectiontransp['section_transpfsjcE_ros'][4]])\n",
    "\n",
    "leave_pr = np.sum(dict_sectiontransp['section_transpfpr_ros'][1:])\n",
    "ent_pr = np.sum([dict_sectiontransp['section_transpfharoS_ros'][3],dict_sectiontransp['section_transpfharoN_ros'][3],dict_sectiontransp['section_transpfsjcS_ros'][3],dict_sectiontransp['section_transpfsjcN_ros'][3],dict_sectiontransp['section_transpfvs_ros'][3],dict_sectiontransp['section_transpfadm_ros'][3],dict_sectiontransp['section_transpfsjcE_ros'][3]])\n",
    "\n",
    "leave_adm = np.sum(dict_sectiontransp['section_transpfadm_ros'][1:])\n",
    "ent_adm = np.sum([dict_sectiontransp['section_transpfharoS_ros'][1],dict_sectiontransp['section_transpfharoN_ros'][1],dict_sectiontransp['section_transpfsjcS_ros'][1],dict_sectiontransp['section_transpfsjcN_ros'][1],dict_sectiontransp['section_transpfpr_ros'][1],dict_sectiontransp['section_transpfvs_ros'][1],dict_sectiontransp['section_transpfsjcE_ros'][1]])\n",
    "\n",
    "leave_sjcE = np.sum(dict_sectiontransp['section_transpfsjcE_ros'][1:])\n",
    "ent_sjcE = np.sum([dict_sectiontransp['section_transpfharoS_ros'][2],dict_sectiontransp['section_transpfharoN_ros'][2],dict_sectiontransp['section_transpfsjcS_ros'][2],dict_sectiontransp['section_transpfsjcN_ros'][2],dict_sectiontransp['section_transpfpr_ros'][2],dict_sectiontransp['section_transpfadm_ros'][2],dict_sectiontransp['section_transpfvs_ros'][2]])\n",
    "\n",
    "leave_total = np.sum([leave_haroS,leave_vic,leave_rosN,leave_sjcS,leave_sjcN,leave_pr,leave_adm,leave_sjcE])\n",
    "ent_total = np.sum([ent_haroS,ent_vic,ent_sjcS,ent_pr,ent_rosN,ent_sjcN,ent_adm,ent_sjcE])\n",
    "\n",
    "print('Leaving VicSill:',leave_vic)\n",
    "print('Leaving Haro South:',leave_haroS)\n",
    "print('Leaving Haro North:',leave_haroN)\n",
    "print('Leaving SJC North:',leave_sjcN)\n",
    "print('Leaving SJC South:',leave_sjcS)\n",
    "print('Leaving PointRob:',leave_pr)\n",
    "print('Leaving Admiralty:',leave_adm)\n",
    "print('Leaving SJC East:',leave_sjcE)\n",
    "print('Total:',leave_total,'\\n')\n",
    "\n",
    "print('Entering Victoria:',ent_vic)\n",
    "print('Entering Haro South:',ent_rosS)\n",
    "print('Entering Haro North:',ent_rosN)\n",
    "print('Entering SJC North:',ent_sjcN)\n",
    "print('Entering SJC South:',ent_sjcS)\n",
    "print('Entering PointRob:',ent_pr)\n",
    "print('Entering Admiralty:',ent_adm)\n",
    "print('Entering SJC East:',ent_sjcE)\n",
    "print('Total:',ent_total)"
   ]
  },
  {
   "cell_type": "markdown",
   "metadata": {},
   "source": [
    "### Combined balance"
   ]
  },
  {
   "cell_type": "code",
   "execution_count": 10,
   "metadata": {},
   "outputs": [
    {
     "data": {
      "text/plain": [
       "79631.3133443763"
      ]
     },
     "execution_count": 10,
     "metadata": {},
     "output_type": "execute_result"
    }
   ],
   "source": [
    "np.sum([dict_sectiontransp['section_transpfpr_ros'][3],dict_sectiontransp['section_transpfadm_ros'][1],dict_sectiontransp['section_transpfpr_haro'][5],dict_sectiontransp['section_transpfadm_haro'][1]])"
   ]
  },
  {
   "cell_type": "code",
   "execution_count": 27,
   "metadata": {},
   "outputs": [
    {
     "name": "stdout",
     "output_type": "stream",
     "text": [
      "Leaving VicSill: 75735.1351861342\n",
      "Leaving PointRob: 27351.04473847934\n",
      "Leaving Admiralty: 70086.25624834908\n",
      "Leaving Gulf: 12242.480177832314\n",
      "Total: 185414.9163507949 \n",
      "\n",
      "Entering Victoria: 86743.41944928342\n",
      "Entering PointRob: 18972.13907700795\n",
      "Entering Admiralty: 62904.003710239274\n",
      "Entering Gulf: 16428.324201488776\n",
      "Total: 185047.88643801943\n"
     ]
    }
   ],
   "source": [
    "leave_vic = np.sum([np.sum(dict_sectiontransp['section_transpfvs_ros'][1:4]),dict_sectiontransp['section_transpfvs_ros'][6],np.sum(dict_sectiontransp['section_transpfvs_haro'][1:3]),np.sum(dict_sectiontransp['section_transpfvs_haro'][5:7])])\n",
    "ent_vic = np.sum([dict_sectiontransp['section_transpfpr_ros'][3],dict_sectiontransp['section_transpfadm_ros'][1],dict_sectiontransp['section_transpfpr_haro'][5],dict_sectiontransp['section_transpfadm_haro'][1],dict_sectiontransp['section_transpfgulf_haro'][6],dict_sectiontransp['section_transpfgulf_ros'][6]])\n",
    "\n",
    "leave_pr = np.sum([np.sum(dict_sectiontransp['section_transpfpr_ros'][1:4]),dict_sectiontransp['section_transpfpr_ros'][6],np.sum(dict_sectiontransp['section_transpfpr_haro'][1:3]),np.sum(dict_sectiontransp['section_transpfpr_haro'][5:7])])\n",
    "ent_pr = np.sum([dict_sectiontransp['section_transpfvs_ros'][3],dict_sectiontransp['section_transpfadm_ros'][3],dict_sectiontransp['section_transpfvs_haro'][5],dict_sectiontransp['section_transpfadm_haro'][5],dict_sectiontransp['section_transpfgulf_haro'][5],dict_sectiontransp['section_transpfgulf_ros'][3]])\n",
    "\n",
    "leave_adm = np.sum([np.sum(dict_sectiontransp['section_transpfadm_ros'][1:4]),dict_sectiontransp['section_transpfadm_ros'][6],np.sum(dict_sectiontransp['section_transpfadm_haro'][1:3]),np.sum(dict_sectiontransp['section_transpfadm_haro'][5:7])])\n",
    "ent_adm = np.sum([dict_sectiontransp['section_transpfvs_ros'][1],dict_sectiontransp['section_transpfpr_ros'][1],dict_sectiontransp['section_transpfvs_haro'][1],dict_sectiontransp['section_transpfpr_haro'][1],dict_sectiontransp['section_transpfgulf_haro'][1],dict_sectiontransp['section_transpfgulf_ros'][1]])\n",
    "\n",
    "leave_gulf = np.sum([np.sum(dict_sectiontransp['section_transpfgulf_ros'][1:4]),dict_sectiontransp['section_transpfgulf_ros'][6],np.sum(dict_sectiontransp['section_transpfgulf_haro'][1:3]),np.sum(dict_sectiontransp['section_transpfgulf_haro'][5:7])])\n",
    "ent_gulf = np.sum([dict_sectiontransp['section_transpfvs_ros'][6],dict_sectiontransp['section_transpfpr_ros'][6],dict_sectiontransp['section_transpfvs_haro'][6],dict_sectiontransp['section_transpfpr_haro'][6],dict_sectiontransp['section_transpfadm_haro'][6],dict_sectiontransp['section_transpfadm_ros'][6]])\n",
    "\n",
    "\n",
    "leave_total = np.sum([leave_vic,leave_pr,leave_adm,leave_gulf])\n",
    "ent_total = np.sum([ent_vic,ent_pr,ent_adm,ent_gulf])\n",
    "\n",
    "print('Leaving VicSill:',leave_vic)\n",
    "# print('Leaving Haro South:',leave_haroS)\n",
    "# print('Leaving Haro North:',leave_haroN)\n",
    "# print('Leaving SJC North:',leave_sjcN)\n",
    "# print('Leaving SJC South:',leave_sjcS)\n",
    "print('Leaving PointRob:',leave_pr)\n",
    "print('Leaving Admiralty:',leave_adm)\n",
    "print('Leaving Gulf:',leave_gulf)\n",
    "print('Total:',leave_total,'\\n')\n",
    "\n",
    "print('Entering Victoria:',ent_vic)\n",
    "# print('Entering Haro South:',ent_rosS)\n",
    "# print('Entering Haro North:',ent_rosN)\n",
    "# print('Entering SJC North:',ent_sjcN)\n",
    "# print('Entering SJC South:',ent_sjcS)\n",
    "print('Entering PointRob:',ent_pr)\n",
    "print('Entering Admiralty:',ent_adm)\n",
    "print('Entering Gulf:',ent_gulf)\n",
    "print('Total:',ent_total)"
   ]
  },
  {
   "cell_type": "markdown",
   "metadata": {},
   "source": [
    "Pretty much balanced"
   ]
  },
  {
   "cell_type": "code",
   "execution_count": 42,
   "metadata": {},
   "outputs": [
    {
     "data": {
      "text/plain": [
       "(7135.570863423385, 6673.935457390362)"
      ]
     },
     "execution_count": 42,
     "metadata": {},
     "output_type": "execute_result"
    }
   ],
   "source": [
    "dict_sectiontransp['section_transpfpr_haro'][6],dict_sectiontransp['section_transpfpr_ros'][6]"
   ]
  },
  {
   "cell_type": "code",
   "execution_count": 43,
   "metadata": {},
   "outputs": [
    {
     "data": {
      "text/plain": [
       "(30274.08777043887, 30975.915698419994)"
      ]
     },
     "execution_count": 43,
     "metadata": {},
     "output_type": "execute_result"
    }
   ],
   "source": [
    "dict_sectiontransp['section_transpfvs_haro'][1],dict_sectiontransp['section_transpfvs_ros'][1]"
   ]
  },
  {
   "cell_type": "code",
   "execution_count": 44,
   "metadata": {},
   "outputs": [
    {
     "data": {
      "text/plain": [
       "(35963.99196220609, 31813.106377097196)"
      ]
     },
     "execution_count": 44,
     "metadata": {},
     "output_type": "execute_result"
    }
   ],
   "source": [
    "dict_sectiontransp['section_transpfadm_haro'][1],dict_sectiontransp['section_transpfadm_ros'][1]"
   ]
  },
  {
   "cell_type": "code",
   "execution_count": 45,
   "metadata": {},
   "outputs": [
    {
     "data": {
      "text/plain": [
       "(3001.624340033968, 1998.50592958785)"
      ]
     },
     "execution_count": 45,
     "metadata": {},
     "output_type": "execute_result"
    }
   ],
   "source": [
    "dict_sectiontransp['section_transpfgulf_haro'][5],dict_sectiontransp['section_transpfgulf_ros'][3]"
   ]
  },
  {
   "cell_type": "code",
   "execution_count": 99,
   "metadata": {},
   "outputs": [
    {
     "name": "stdout",
     "output_type": "stream",
     "text": [
      "Leaving VicSill: 45041.47509878072\n",
      "Leaving PointRob: 20286.854994082823\n",
      "Leaving Admiralty: 36159.03850349755\n",
      "Leaving Gulf: 12649.254611236094\n",
      "Total: 114136.62320759718 \n",
      "\n",
      "Entering Victoria: 52854.87027963179\n",
      "Entering PointRob: 16472.07394219704\n",
      "Entering Admiralty: 32279.001975809842\n",
      "Entering Gulf: 9523.571041081901\n",
      "Total: 111129.51723872057\n"
     ]
    }
   ],
   "source": [
    "leave_vic = np.sum([np.mean([dict_sectiontransp['section_transpfvs_ros'][1],dict_sectiontransp['section_transpfvs_haro'][1]]),np.sum(dict_sectiontransp['section_transpfvs_ros'][3]),dict_sectiontransp['section_transpfvs_ros'][6],dict_sectiontransp['section_transpfvs_haro'][2],np.sum(dict_sectiontransp['section_transpfvs_haro'][5:7])])\n",
    "ent_vic = np.sum([np.mean([dict_sectiontransp['section_transpfadm_ros'][1],dict_sectiontransp['section_transpfadm_haro'][1]]),dict_sectiontransp['section_transpfpr_ros'][3],dict_sectiontransp['section_transpfpr_haro'][5],dict_sectiontransp['section_transpfgulf_haro'][6],dict_sectiontransp['section_transpfgulf_ros'][6]])\n",
    "\n",
    "leave_pr = np.sum([np.mean([dict_sectiontransp['section_transpfpr_ros'][6],dict_sectiontransp['section_transpfpr_haro'][6]]),np.sum([dict_sectiontransp['section_transpfpr_ros'][1],dict_sectiontransp['section_transpfpr_ros'][3]]),np.sum(dict_sectiontransp['section_transpfpr_haro'][1:3]),np.sum(dict_sectiontransp['section_transpfpr_haro'][5])])\n",
    "ent_pr = np.sum([np.mean([dict_sectiontransp['section_transpfgulf_ros'][3],dict_sectiontransp['section_transpfgulf_haro'][5]]),dict_sectiontransp['section_transpfvs_ros'][3],dict_sectiontransp['section_transpfadm_ros'][3],dict_sectiontransp['section_transpfvs_haro'][5],dict_sectiontransp['section_transpfadm_haro'][5]])\n",
    "\n",
    "leave_adm = np.sum([np.mean([dict_sectiontransp['section_transpfadm_ros'][1],dict_sectiontransp['section_transpfadm_haro'][1]]),np.sum(dict_sectiontransp['section_transpfadm_ros'][3]),dict_sectiontransp['section_transpfadm_ros'][6],np.sum(dict_sectiontransp['section_transpfadm_haro'][2]),np.sum(dict_sectiontransp['section_transpfadm_haro'][5:7])])\n",
    "ent_adm = np.sum([np.mean([dict_sectiontransp['section_transpfvs_haro'][1],dict_sectiontransp['section_transpfvs_ros'][1]]),dict_sectiontransp['section_transpfpr_ros'][1],dict_sectiontransp['section_transpfpr_haro'][1],dict_sectiontransp['section_transpfgulf_haro'][1],dict_sectiontransp['section_transpfgulf_ros'][1]])\n",
    "\n",
    "leave_gulf = np.sum([np.mean([dict_sectiontransp['section_transpfgulf_ros'][3],dict_sectiontransp['section_transpfgulf_haro'][5]]),np.sum(dict_sectiontransp['section_transpfgulf_ros'][1]),dict_sectiontransp['section_transpfgulf_ros'][6],np.sum(dict_sectiontransp['section_transpfgulf_haro'][2]),np.sum(dict_sectiontransp['section_transpfgulf_haro'][5:7])])\n",
    "ent_gulf = np.sum([np.mean([dict_sectiontransp['section_transpfpr_haro'][6],dict_sectiontransp['section_transpfpr_ros'][6]]),dict_sectiontransp['section_transpfvs_haro'][6],dict_sectiontransp['section_transpfvs_ros'][6],dict_sectiontransp['section_transpfadm_haro'][6],dict_sectiontransp['section_transpfadm_ros'][6]])\n",
    "\n",
    "\n",
    "leave_total = np.sum([leave_vic,leave_pr,leave_adm,leave_gulf])\n",
    "ent_total = np.sum([ent_vic,ent_pr,ent_adm,ent_gulf])\n",
    "\n",
    "print('Leaving VicSill:',leave_vic)\n",
    "print('Leaving PointRob:',leave_pr)\n",
    "print('Leaving Admiralty:',leave_adm)\n",
    "print('Leaving Gulf:',leave_gulf)\n",
    "print('Total:',leave_total,'\\n')\n",
    "\n",
    "print('Entering Victoria:',ent_vic)\n",
    "print('Entering PointRob:',ent_pr)\n",
    "print('Entering Admiralty:',ent_adm)\n",
    "print('Entering Gulf:',ent_gulf)\n",
    "print('Total:',ent_total)"
   ]
  },
  {
   "cell_type": "markdown",
   "metadata": {},
   "source": [
    "Slightly out of balance ... because no seeding at SJCEast? Or could be because I'm averaging what doesn't pass through a strait"
   ]
  },
  {
   "cell_type": "markdown",
   "metadata": {},
   "source": [
    "I think its because I'm averaging since it was mostly balances before (above)"
   ]
  },
  {
   "cell_type": "code",
   "execution_count": 89,
   "metadata": {},
   "outputs": [
    {
     "name": "stdout",
     "output_type": "stream",
     "text": [
      "15696.073317048913 894.753371012245\n",
      "25995.64498327894\n",
      "25995.644983278944\n"
     ]
    }
   ],
   "source": [
    "N_haro = np.sum([dict_sectiontransp['section_transpfvs_haro'][5:7],dict_sectiontransp['section_transpfadm_haro'][5:7]])\n",
    "N_ros = np.sum([dict_sectiontransp['section_transpfvs_ros'][3],dict_sectiontransp['section_transpfadm_ros'][3],dict_sectiontransp['section_transpfvs_ros'][6],dict_sectiontransp['section_transpfadm_ros'][6]])\n",
    "\n",
    "print(N_haro,N_ros)\n",
    "print(ent_gulf+ent_pr)\n",
    "#Check that whats going through each strait + whats going b/w pr and gulf is =\n",
    "total = N_haro+N_ros+np.mean([dict_sectiontransp['section_transpfpr_haro'][6],dict_sectiontransp['section_transpfpr_ros'][6]])+np.mean([dict_sectiontransp['section_transpfgulf_haro'][5],dict_sectiontransp['section_transpfgulf_ros'][3]])\n",
    "print(total)\n"
   ]
  },
  {
   "cell_type": "markdown",
   "metadata": {},
   "source": [
    "The total of whats entering gulf + pr is equal to what is passing through rosario and haro and whats moving between the two --> balances!"
   ]
  },
  {
   "cell_type": "code",
   "execution_count": 91,
   "metadata": {},
   "outputs": [
    {
     "name": "stdout",
     "output_type": "stream",
     "text": [
      "18615.04547401769 2005.2758773428677\n",
      "85133.87225544163\n",
      "85133.87225544163\n"
     ]
    }
   ],
   "source": [
    "S_haro = np.sum([dict_sectiontransp['section_transpfpr_haro'][5],dict_sectiontransp['section_transpfpr_haro'][1],dict_sectiontransp['section_transpfgulf_haro'][6],dict_sectiontransp['section_transpfgulf_haro'][1]])\n",
    "S_ros = np.sum([dict_sectiontransp['section_transpfpr_ros'][3],dict_sectiontransp['section_transpfpr_ros'][1],dict_sectiontransp['section_transpfgulf_ros'][6],dict_sectiontransp['section_transpfgulf_ros'][1]])\n",
    "\n",
    "print(S_haro,S_ros)\n",
    "print(ent_vic+ent_adm)\n",
    "#Check that whats going passing south through the channels (+ whats moving b/w them) is = to whats entering adm + vs\n",
    "total = S_haro+S_ros+np.mean([dict_sectiontransp['section_transpfadm_haro'][1],dict_sectiontransp['section_transpfadm_ros'][1]])+np.mean([dict_sectiontransp['section_transpfvs_haro'][1],dict_sectiontransp['section_transpfvs_ros'][1]])\n",
    "print(total)"
   ]
  },
  {
   "cell_type": "markdown",
   "metadata": {},
   "source": [
    "Balance --> good"
   ]
  },
  {
   "cell_type": "markdown",
   "metadata": {},
   "source": [
    "### Balance with SJC"
   ]
  },
  {
   "cell_type": "code",
   "execution_count": 105,
   "metadata": {},
   "outputs": [
    {
     "name": "stdout",
     "output_type": "stream",
     "text": [
      "Leaving VicSill: 44858.46883947505\n",
      "Leaving PointRob: 20943.22905230422\n",
      "Leaving Admiralty: 35584.72844506591\n",
      "Leaving Gulf: 12511.162990821244\n",
      "Total: 113897.58932766643 \n",
      "\n",
      "Entering Victoria: 52914.09829229986\n",
      "Entering PointRob: 16397.497241369478\n",
      "Entering Admiralty: 32079.868449673144\n",
      "Entering Gulf: 9499.019375447326\n",
      "Total: 110890.48335878982\n"
     ]
    }
   ],
   "source": [
    "leave_vic = np.sum([np.mean([dict_sectiontransp['section_transpfvs_ros'][1],dict_sectiontransp['section_transpfvs_haro'][1],dict_sectiontransp['section_transpfvs_sjc'][1]]),np.sum(dict_sectiontransp['section_transpfvs_ros'][3]),dict_sectiontransp['section_transpfvs_ros'][6],dict_sectiontransp['section_transpfvs_haro'][2],np.sum(dict_sectiontransp['section_transpfvs_haro'][5:7]),dict_sectiontransp['section_transpfvs_sjc'][4],dict_sectiontransp['section_transpfvs_sjc'][6]])\n",
    "ent_vic = np.sum([np.mean([dict_sectiontransp['section_transpfadm_ros'][1],dict_sectiontransp['section_transpfadm_haro'][1],dict_sectiontransp['section_transpfadm_sjc'][1]]),dict_sectiontransp['section_transpfpr_ros'][3],dict_sectiontransp['section_transpfpr_haro'][5],dict_sectiontransp['section_transpfgulf_haro'][6],dict_sectiontransp['section_transpfgulf_ros'][6],dict_sectiontransp['section_transpfpr_sjc'][4],dict_sectiontransp['section_transpfgulf_sjc'][6]])\n",
    "\n",
    "leave_pr = np.sum([np.mean([dict_sectiontransp['section_transpfpr_ros'][6],dict_sectiontransp['section_transpfpr_haro'][6],dict_sectiontransp['section_transpfpr_sjc'][6]]),np.sum([dict_sectiontransp['section_transpfpr_ros'][1],dict_sectiontransp['section_transpfpr_ros'][3]]),np.sum(dict_sectiontransp['section_transpfpr_haro'][1:3]),np.sum(dict_sectiontransp['section_transpfpr_haro'][5]),dict_sectiontransp['section_transpfpr_sjc'][1],dict_sectiontransp['section_transpfpr_sjc'][4]])\n",
    "ent_pr = np.sum([np.mean([dict_sectiontransp['section_transpfgulf_ros'][3],dict_sectiontransp['section_transpfgulf_haro'][5],dict_sectiontransp['section_transpfgulf_sjc'][4]]),dict_sectiontransp['section_transpfvs_ros'][3],dict_sectiontransp['section_transpfadm_ros'][3],dict_sectiontransp['section_transpfvs_haro'][5],dict_sectiontransp['section_transpfadm_haro'][5],dict_sectiontransp['section_transpfvs_sjc'][4],dict_sectiontransp['section_transpfadm_sjc'][4]])\n",
    "\n",
    "leave_adm = np.sum([np.mean([dict_sectiontransp['section_transpfadm_ros'][1],dict_sectiontransp['section_transpfadm_haro'][1],dict_sectiontransp['section_transpfadm_sjc'][1]]),np.sum(dict_sectiontransp['section_transpfadm_ros'][3]),dict_sectiontransp['section_transpfadm_ros'][6],np.sum(dict_sectiontransp['section_transpfadm_haro'][2]),np.sum(dict_sectiontransp['section_transpfadm_haro'][5:7]),dict_sectiontransp['section_transpfadm_sjc'][4],dict_sectiontransp['section_transpfadm_sjc'][6]])\n",
    "ent_adm = np.sum([np.mean([dict_sectiontransp['section_transpfvs_haro'][1],dict_sectiontransp['section_transpfvs_ros'][1],dict_sectiontransp['section_transpfvs_sjc'][1]]),dict_sectiontransp['section_transpfpr_ros'][1],dict_sectiontransp['section_transpfpr_haro'][1],dict_sectiontransp['section_transpfgulf_haro'][1],dict_sectiontransp['section_transpfgulf_ros'][1],dict_sectiontransp['section_transpfpr_sjc'][1],dict_sectiontransp['section_transpfgulf_sjc'][1]])\n",
    "\n",
    "leave_gulf = np.sum([np.mean([dict_sectiontransp['section_transpfgulf_ros'][3],dict_sectiontransp['section_transpfgulf_haro'][5],dict_sectiontransp['section_transpfgulf_sjc'][4]]),np.sum(dict_sectiontransp['section_transpfgulf_ros'][1]),dict_sectiontransp['section_transpfgulf_ros'][6],np.sum(dict_sectiontransp['section_transpfgulf_haro'][2]),np.sum(dict_sectiontransp['section_transpfgulf_haro'][5:7]),dict_sectiontransp['section_transpfgulf_sjc'][1],dict_sectiontransp['section_transpfgulf_sjc'][6]])\n",
    "ent_gulf = np.sum([np.mean([dict_sectiontransp['section_transpfpr_haro'][6],dict_sectiontransp['section_transpfpr_ros'][6],dict_sectiontransp['section_transpfpr_sjc'][6]]),dict_sectiontransp['section_transpfvs_haro'][6],dict_sectiontransp['section_transpfvs_ros'][6],dict_sectiontransp['section_transpfadm_haro'][6],dict_sectiontransp['section_transpfadm_ros'][6],dict_sectiontransp['section_transpfvs_sjc'][6],dict_sectiontransp['section_transpfadm_sjc'][6]])\n",
    "\n",
    "leave_total = np.sum([leave_vic,leave_pr,leave_adm,leave_gulf])\n",
    "ent_total = np.sum([ent_vic,ent_pr,ent_adm,ent_gulf])\n",
    "\n",
    "print('Leaving VicSill:',leave_vic)\n",
    "print('Leaving PointRob:',leave_pr)\n",
    "print('Leaving Admiralty:',leave_adm)\n",
    "print('Leaving Gulf:',leave_gulf)\n",
    "print('Total:',leave_total,'\\n')\n",
    "\n",
    "print('Entering Victoria:',ent_vic)\n",
    "print('Entering PointRob:',ent_pr)\n",
    "print('Entering Admiralty:',ent_adm)\n",
    "print('Entering Gulf:',ent_gulf)\n",
    "print('Total:',ent_total)"
   ]
  },
  {
   "cell_type": "markdown",
   "metadata": {},
   "source": [
    "Look at how different vs to adm is b/w _ros, _haro and _sjc:"
   ]
  },
  {
   "cell_type": "code",
   "execution_count": 98,
   "metadata": {},
   "outputs": [
    {
     "data": {
      "text/plain": [
       "(30274.08777043887, 30975.915698419994, 29698.89569663809)"
      ]
     },
     "execution_count": 98,
     "metadata": {},
     "output_type": "execute_result"
    }
   ],
   "source": [
    "dict_sectiontransp['section_transpfvs_haro'][1],dict_sectiontransp['section_transpfvs_ros'][1],dict_sectiontransp['section_transpfvs_sjc'][1]"
   ]
  },
  {
   "cell_type": "code",
   "execution_count": 104,
   "metadata": {},
   "outputs": [
    {
     "data": {
      "text/plain": [
       "(7135.570863423385, 6673.935457390362, 6722.255175039302)"
      ]
     },
     "execution_count": 104,
     "metadata": {},
     "output_type": "execute_result"
    }
   ],
   "source": [
    "dict_sectiontransp['section_transpfpr_haro'][6],dict_sectiontransp['section_transpfpr_ros'][6],dict_sectiontransp['section_transpfpr_sjc'][6]"
   ]
  },
  {
   "cell_type": "code",
   "execution_count": 109,
   "metadata": {},
   "outputs": [
    {
     "name": "stdout",
     "output_type": "stream",
     "text": [
      "15696.073317048913 894.753371012245 154.86097023821574\n",
      "25896.516616816803\n",
      "25896.516616816807\n"
     ]
    }
   ],
   "source": [
    "N_haro = np.sum([dict_sectiontransp['section_transpfvs_haro'][5:7],dict_sectiontransp['section_transpfadm_haro'][5:7]])\n",
    "N_ros = np.sum([dict_sectiontransp['section_transpfvs_ros'][3],dict_sectiontransp['section_transpfadm_ros'][3],dict_sectiontransp['section_transpfvs_ros'][6],dict_sectiontransp['section_transpfadm_ros'][6]])\n",
    "N_sjc = np.sum([dict_sectiontransp['section_transpfvs_sjc'][4],dict_sectiontransp['section_transpfadm_sjc'][4],dict_sectiontransp['section_transpfvs_sjc'][6],dict_sectiontransp['section_transpfadm_sjc'][6]])\n",
    "\n",
    "print(N_haro,N_ros,N_sjc)\n",
    "print(ent_gulf+ent_pr)\n",
    "#Check that whats going through each strait + whats going b/w pr and gulf is =\n",
    "total = N_haro+N_ros+N_sjc+np.mean([dict_sectiontransp['section_transpfpr_haro'][6],dict_sectiontransp['section_transpfpr_ros'][6],dict_sectiontransp['section_transpfpr_sjc'][6]])+np.mean([dict_sectiontransp['section_transpfgulf_haro'][5],dict_sectiontransp['section_transpfgulf_ros'][3],dict_sectiontransp['section_transpfgulf_sjc'][4]])\n",
    "print(total)"
   ]
  },
  {
   "cell_type": "code",
   "execution_count": 111,
   "metadata": {},
   "outputs": [
    {
     "name": "stdout",
     "output_type": "stream",
     "text": [
      "18615.04547401769 2005.2758773428677 772.271774506898\n",
      "84993.96674197301\n",
      "84993.96674197301\n"
     ]
    }
   ],
   "source": [
    "S_haro = np.sum([dict_sectiontransp['section_transpfpr_haro'][5],dict_sectiontransp['section_transpfpr_haro'][1],dict_sectiontransp['section_transpfgulf_haro'][6],dict_sectiontransp['section_transpfgulf_haro'][1]])\n",
    "S_ros = np.sum([dict_sectiontransp['section_transpfpr_ros'][3],dict_sectiontransp['section_transpfpr_ros'][1],dict_sectiontransp['section_transpfgulf_ros'][6],dict_sectiontransp['section_transpfgulf_ros'][1]])\n",
    "S_sjc = np.sum([dict_sectiontransp['section_transpfpr_sjc'][4],dict_sectiontransp['section_transpfpr_sjc'][1],dict_sectiontransp['section_transpfgulf_sjc'][6],dict_sectiontransp['section_transpfgulf_sjc'][1]])\n",
    "\n",
    "print(S_haro,S_ros,S_sjc)\n",
    "print(ent_vic+ent_adm)\n",
    "#Check that whats going passing south through the channels (+ whats moving b/w them) is = to whats entering adm + vs\n",
    "total = S_haro+S_ros+S_sjc+np.mean([dict_sectiontransp['section_transpfadm_haro'][1],dict_sectiontransp['section_transpfadm_ros'][1],dict_sectiontransp['section_transpfadm_sjc'][1]])+np.mean([dict_sectiontransp['section_transpfvs_haro'][1],dict_sectiontransp['section_transpfvs_ros'][1],dict_sectiontransp['section_transpfvs_sjc'][1]])\n",
    "print(total)"
   ]
  },
  {
   "cell_type": "markdown",
   "metadata": {},
   "source": [
    "### Balance in July "
   ]
  },
  {
   "cell_type": "code",
   "execution_count": 119,
   "metadata": {},
   "outputs": [
    {
     "name": "stdout",
     "output_type": "stream",
     "text": [
      "Leaving VicSill: 65063.42935173435\n",
      "Leaving PointRob: 41078.05040376207\n",
      "Leaving Admiralty: 36825.41005582547\n",
      "Leaving Gulf: 12560.79453643553\n",
      "Total: 155527.68434775743 \n",
      "\n",
      "Entering Victoria: 74825.08842276865\n",
      "Entering PointRob: 37920.3650987503\n",
      "Entering Admiralty: 31195.65043445807\n",
      "Entering Gulf: 9532.525863510917\n",
      "Total: 153473.62981948792\n"
     ]
    }
   ],
   "source": [
    "leave_vic = np.sum([np.mean([dict_sectiontransp['fvs_ros07'][1],dict_sectiontransp['fvs_haro07'][1],dict_sectiontransp['fvs_sjc07'][1]]),np.sum(dict_sectiontransp['fvs_ros07'][3]),dict_sectiontransp['fvs_ros07'][6],dict_sectiontransp['fvs_haro07'][2],np.sum(dict_sectiontransp['fvs_haro07'][5:7]),dict_sectiontransp['fvs_sjc07'][4],dict_sectiontransp['fvs_sjc07'][6]])\n",
    "ent_vic = np.sum([np.mean([dict_sectiontransp['fadm_ros07'][1],dict_sectiontransp['fadm_haro07'][1],dict_sectiontransp['fadm_sjc07'][1]]),dict_sectiontransp['fpr_ros07'][3],dict_sectiontransp['fpr_haro07'][5],dict_sectiontransp['fgulf_haro07'][6],dict_sectiontransp['fgulf_ros07'][6],dict_sectiontransp['fpr_sjc07'][4],dict_sectiontransp['fgulf_sjc07'][6]])\n",
    "\n",
    "leave_pr = np.sum([np.mean([dict_sectiontransp['fpr_ros07'][6],dict_sectiontransp['fpr_haro07'][6],dict_sectiontransp['fpr_sjc07'][6]]),np.sum([dict_sectiontransp['fpr_ros07'][1],dict_sectiontransp['fpr_ros07'][3]]),np.sum(dict_sectiontransp['fpr_haro07'][1:3]),np.sum(dict_sectiontransp['fpr_haro07'][5]),dict_sectiontransp['fpr_sjc07'][1],dict_sectiontransp['fpr_sjc07'][4]])\n",
    "ent_pr = np.sum([np.mean([dict_sectiontransp['fgulf_ros07'][3],dict_sectiontransp['fgulf_haro07'][5],dict_sectiontransp['fgulf_sjc07'][4]]),dict_sectiontransp['fvs_ros07'][3],dict_sectiontransp['fadm_ros07'][3],dict_sectiontransp['fvs_haro07'][5],dict_sectiontransp['fadm_haro07'][5],dict_sectiontransp['fvs_sjc07'][4],dict_sectiontransp['fadm_sjc07'][4]])\n",
    "\n",
    "leave_adm = np.sum([np.mean([dict_sectiontransp['fadm_ros07'][1],dict_sectiontransp['fadm_haro07'][1],dict_sectiontransp['fadm_sjc07'][1]]),np.sum(dict_sectiontransp['fadm_ros07'][3]),dict_sectiontransp['fadm_ros07'][6],np.sum(dict_sectiontransp['fadm_haro07'][2]),np.sum(dict_sectiontransp['fadm_haro07'][5:7]),dict_sectiontransp['fadm_sjc07'][4],dict_sectiontransp['fadm_sjc07'][6]])\n",
    "ent_adm = np.sum([np.mean([dict_sectiontransp['fvs_haro07'][1],dict_sectiontransp['fvs_ros07'][1],dict_sectiontransp['fvs_sjc07'][1]]),dict_sectiontransp['fpr_ros07'][1],dict_sectiontransp['fpr_haro07'][1],dict_sectiontransp['fgulf_haro07'][1],dict_sectiontransp['fgulf_ros07'][1],dict_sectiontransp['fpr_sjc07'][1],dict_sectiontransp['fgulf_sjc07'][1]])\n",
    "\n",
    "leave_gulf = np.sum([np.mean([dict_sectiontransp['fgulf_ros07'][3],dict_sectiontransp['fgulf_haro07'][5],dict_sectiontransp['fgulf_sjc07'][4]]),np.sum(dict_sectiontransp['fgulf_ros07'][1]),dict_sectiontransp['fgulf_ros07'][6],np.sum(dict_sectiontransp['fgulf_haro07'][2]),np.sum(dict_sectiontransp['fgulf_haro07'][5:7]),dict_sectiontransp['fgulf_sjc07'][1],dict_sectiontransp['fgulf_sjc07'][6]])\n",
    "ent_gulf = np.sum([np.mean([dict_sectiontransp['fpr_haro07'][6],dict_sectiontransp['fpr_ros07'][6],dict_sectiontransp['fpr_sjc07'][6]]),dict_sectiontransp['fvs_haro07'][6],dict_sectiontransp['fvs_ros07'][6],dict_sectiontransp['fadm_haro07'][6],dict_sectiontransp['fadm_ros07'][6],dict_sectiontransp['fvs_sjc07'][6],dict_sectiontransp['fadm_sjc07'][6]])\n",
    "\n",
    "leave_total = np.sum([leave_vic,leave_pr,leave_adm,leave_gulf])\n",
    "ent_total = np.sum([ent_vic,ent_pr,ent_adm,ent_gulf])\n",
    "\n",
    "print('Leaving VicSill:',leave_vic)\n",
    "print('Leaving PointRob:',leave_pr)\n",
    "print('Leaving Admiralty:',leave_adm)\n",
    "print('Leaving Gulf:',leave_gulf)\n",
    "print('Total:',leave_total,'\\n')\n",
    "\n",
    "print('Entering Victoria:',ent_vic)\n",
    "print('Entering PointRob:',ent_pr)\n",
    "print('Entering Admiralty:',ent_adm)\n",
    "print('Entering Gulf:',ent_gulf)\n",
    "print('Total:',ent_total)"
   ]
  },
  {
   "cell_type": "code",
   "execution_count": 120,
   "metadata": {},
   "outputs": [
    {
     "name": "stdout",
     "output_type": "stream",
     "text": [
      "39445.37634590847 198.62851402392297 46.72469457323586\n",
      "47452.89096226121\n",
      "47452.8909622612\n"
     ]
    }
   ],
   "source": [
    "N_haro07 = np.sum([dict_sectiontransp['fvs_haro07'][5:7],dict_sectiontransp['fadm_haro07'][5:7]])\n",
    "N_ros07 = np.sum([dict_sectiontransp['fvs_ros07'][3],dict_sectiontransp['fadm_ros07'][3],dict_sectiontransp['fvs_ros07'][6],dict_sectiontransp['fadm_ros07'][6]])\n",
    "N_sjc07 = np.sum([dict_sectiontransp['fvs_sjc07'][4],dict_sectiontransp['fadm_sjc07'][4],dict_sectiontransp['fvs_sjc07'][6],dict_sectiontransp['fadm_sjc07'][6]])\n",
    "\n",
    "print(N_haro07,N_ros07,N_sjc07)\n",
    "print(ent_gulf+ent_pr)\n",
    "#Check that whats going through each strait + whats going b/w pr and gulf is =\n",
    "total = N_haro07+N_ros07+N_sjc07+np.mean([dict_sectiontransp['fpr_haro07'][6],dict_sectiontransp['fpr_ros07'][6],dict_sectiontransp['fpr_sjc07'][6]])+np.mean([dict_sectiontransp['fgulf_haro07'][5],dict_sectiontransp['fgulf_ros07'][3],dict_sectiontransp['fgulf_sjc07'][4]])\n",
    "print(total)"
   ]
  },
  {
   "cell_type": "code",
   "execution_count": 121,
   "metadata": {},
   "outputs": [
    {
     "name": "stdout",
     "output_type": "stream",
     "text": [
      "27684.683459838558 13761.186639120797 2460.9412581613547\n",
      "106020.73885722672\n",
      "106020.73885722674\n"
     ]
    }
   ],
   "source": [
    "S_haro07 = np.sum([dict_sectiontransp['fpr_haro07'][5],dict_sectiontransp['fpr_haro07'][1],dict_sectiontransp['fgulf_haro07'][6],dict_sectiontransp['fgulf_haro07'][1]])\n",
    "S_ros07 = np.sum([dict_sectiontransp['fpr_ros07'][3],dict_sectiontransp['fpr_ros07'][1],dict_sectiontransp['fgulf_ros07'][6],dict_sectiontransp['fgulf_ros07'][1]])\n",
    "S_sjc07 = np.sum([dict_sectiontransp['fpr_sjc07'][4],dict_sectiontransp['fpr_sjc07'][1],dict_sectiontransp['fgulf_sjc07'][6],dict_sectiontransp['fgulf_sjc07'][1]])\n",
    "\n",
    "print(S_haro07,S_ros07,S_sjc07)\n",
    "print(ent_vic+ent_adm)\n",
    "#Check that whats going passing south through the channels (+ whats moving b/w them) is = to whats entering adm + vs\n",
    "total = S_haro07+S_ros07+S_sjc07+np.mean([dict_sectiontransp['fadm_haro07'][1],dict_sectiontransp['fadm_ros07'][1],dict_sectiontransp['fadm_sjc07'][1]])+np.mean([dict_sectiontransp['fvs_haro07'][1],dict_sectiontransp['fvs_ros07'][1],dict_sectiontransp['fvs_sjc07'][1]])\n",
    "print(total)"
   ]
  },
  {
   "cell_type": "markdown",
   "metadata": {},
   "source": [
    "Look @ property modification through haro vs. through Rosario"
   ]
  }
 ],
 "metadata": {
  "kernelspec": {
   "display_name": "Python 3.10.6 ('analysis-camryn')",
   "language": "python",
   "name": "python3"
  },
  "language_info": {
   "codemirror_mode": {
    "name": "ipython",
    "version": 3
   },
   "file_extension": ".py",
   "mimetype": "text/x-python",
   "name": "python",
   "nbconvert_exporter": "python",
   "pygments_lexer": "ipython3",
   "version": "3.10.6"
  },
  "orig_nbformat": 4,
  "vscode": {
   "interpreter": {
    "hash": "45037fb5df905fe0ec215a1f079d5355b535b26f32fb585b4920c91cfb7d4d84"
   }
  }
 },
 "nbformat": 4,
 "nbformat_minor": 2
}
