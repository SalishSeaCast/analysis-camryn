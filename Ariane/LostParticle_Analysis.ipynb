{
 "cells": [
  {
   "cell_type": "code",
   "execution_count": 20,
   "metadata": {},
   "outputs": [],
   "source": [
    "import numpy as np\n",
    "import matplotlib.pyplot as plt\n",
    "import arrow\n",
    "import datetime\n",
    "import xarray as xr\n",
    "import os\n",
    "import cmocean.cm as cm\n",
    "import matplotlib.cm as cma\n",
    "import scipy.interpolate as interp\n",
    "from matplotlib.collections import PatchCollection\n",
    "import matplotlib.dates as mpl_dates\n",
    "from matplotlib.ticker import ScalarFormatter\n",
    "from matplotlib.ticker import FormatStrFormatter\n",
    "import datetime as dt \n",
    "from matplotlib.patches import Rectangle\n",
    "from IPython.display import Image, display\n",
    "import pandas as pd\n",
    "from salishsea_tools import viz_tools, places, visualisations\n",
    "import re"
   ]
  },
  {
   "cell_type": "markdown",
   "metadata": {},
   "source": [
    "### Import functions"
   ]
  },
  {
   "cell_type": "markdown",
   "metadata": {},
   "source": [
    "### Import data"
   ]
  },
  {
   "cell_type": "code",
   "execution_count": 28,
   "metadata": {},
   "outputs": [],
   "source": [
    "#Importing data and calculating section transport \n",
    "import warnings\n",
    "warnings.filterwarnings('ignore', category=RuntimeWarning)\n",
    "\n",
    "# files = ['forpr_ros3','forpr_haro3','forvs_haro3']\n",
    "files = ['forpr_sjc3','forgulf_sjc3','forvs_sjc3','foradm_sjc3','forpr_ros3','forgulf_ros3','forvs_ros3','foradm_ros3',\n",
    "         'forpr_haro3','forgulf_haro3','forvs_haro3','foradm_haro32'] # Update config for foradm_haro\n",
    "namen = ['datafvs']\n",
    "\n",
    "starttime = 1\n",
    "endtime = 24\n",
    "sectionnum = [0,1,2,3,4,5,6,7,8,9]\n",
    "\n",
    "date = dt.datetime(2018,1,1)\n",
    "enddate = dt.datetime(2018,12,31)\n",
    "\n",
    "dates = []\n",
    "datelist_vs = []\n",
    "\n",
    "while date <= enddate:\n",
    "    dates.append(date.strftime('%d%b%y').lower())\n",
    "    datelist_vs.append(date)\n",
    "    date+=dt.timedelta(days=1)"
   ]
  },
  {
   "cell_type": "code",
   "execution_count": 38,
   "metadata": {},
   "outputs": [
    {
     "name": "stdout",
     "output_type": "stream",
     "text": [
      "File not found: /ocean/cstang/MOAD/analysis-camryn/Ariane/forpr_sjc3/28may18_s1t50/stats.txt\n"
     ]
    }
   ],
   "source": [
    "LostP = {}\n",
    "\n",
    "for file in files:\n",
    "    LostP[file] = []\n",
    "    \n",
    "    for date in dates:\n",
    "        name = '/ocean/cstang/MOAD/analysis-camryn/Ariane/' + file + '/' + date + '_s1t50/stats.txt'\n",
    "        \n",
    "        if os.path.isfile(name):\n",
    "            \n",
    "            try:\n",
    "                # Open the file (assuming it's a text-based format, otherwise adjust for binary files)\n",
    "                with open(name, 'r') as f:\n",
    "                    # Read through each line in the file\n",
    "                    for line in f:\n",
    "                        # Search for the pattern \"lost\" followed by a space and then a number\n",
    "                        match = re.search(r'lost\\s+([-\\d.]+)', line)\n",
    "                        if match:\n",
    "                            # Extract the number and append it to the list\n",
    "                            LostP[file].append(float(match.group(1)))  # Convert the matched number to a float\n",
    "            except Exception as e:\n",
    "                pass\n",
    "        else:\n",
    "            print(f\"File not found: {name}\")\n",
    "\n",
    "# Print the collected numbers\n",
    "LostParticles = np.array(LostP)"
   ]
  },
  {
   "cell_type": "code",
   "execution_count": 49,
   "metadata": {},
   "outputs": [
    {
     "name": "stdout",
     "output_type": "stream",
     "text": [
      "1340.2894372602739\n",
      "984.1149958904109\n",
      "123.6392709589041\n",
      "426.0019619178083\n",
      "165.99084547945205\n",
      "992.6630898630136\n",
      "43.09173123287671\n",
      "269.0808736986301\n",
      "66.55302575342466\n",
      "550.8837760989011\n",
      "21.56654876712329\n"
     ]
    }
   ],
   "source": [
    "print(np.mean(LostP['forvs_haro3']))\n",
    "print(np.mean(LostP['forpr_haro3']))\n",
    "print(np.mean(LostP['foradm_haro32']))\n",
    "print(np.mean(LostP['forgulf_haro3']))\n",
    "print(np.mean(LostP['forvs_ros3']))\n",
    "print(np.mean(LostP['forpr_ros3']))\n",
    "print(np.mean(LostP['foradm_ros3']))\n",
    "print(np.mean(LostP['forgulf_ros3']))\n",
    "print(np.mean(LostP['forvs_sjc3']))\n",
    "print(np.mean(LostP['forpr_sjc3']))\n",
    "print(np.mean(LostP['foradm_sjc3']))"
   ]
  }
 ],
 "metadata": {
  "kernelspec": {
   "display_name": "analysis-camryn",
   "language": "python",
   "name": "python3"
  },
  "language_info": {
   "codemirror_mode": {
    "name": "ipython",
    "version": 3
   },
   "file_extension": ".py",
   "mimetype": "text/x-python",
   "name": "python",
   "nbconvert_exporter": "python",
   "pygments_lexer": "ipython3",
   "version": "3.10.6"
  }
 },
 "nbformat": 4,
 "nbformat_minor": 2
}
