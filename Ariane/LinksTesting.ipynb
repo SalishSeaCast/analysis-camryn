{
 "cells": [
  {
   "cell_type": "code",
   "execution_count": 2,
   "metadata": {},
   "outputs": [],
   "source": [
    "import argparse\n",
    "import arrow\n",
    "import os\n",
    "import subprocess\n",
    "import datetime as dt\n",
    "import pytz\n"
   ]
  },
  {
   "cell_type": "code",
   "execution_count": 3,
   "metadata": {},
   "outputs": [],
   "source": [
    "TARGET_TMPL = 'SalishSea_1h_{:03d}_grid_{:s}.nc'\n",
    "FILENAME_TMPL = 'SalishSea_1h_{:%Y%m%d}_{:%Y%m%d}_grid_{:s}.nc'\n",
    "SUBDIR_TMPL = '{:%d%b%y}'\n"
   ]
  },
  {
   "cell_type": "code",
   "execution_count": 4,
   "metadata": {},
   "outputs": [
    {
     "data": {
      "text/plain": [
       "<Arrow [2019-01-01T00:00:00+00:00]>"
      ]
     },
     "execution_count": 4,
     "metadata": {},
     "output_type": "execute_result"
    }
   ],
   "source": [
    "rundate = arrow.get(dt.datetime(2019, 1, 1))\n",
    "runlength = 365+30\n",
    "symlinks = []\n",
    "links = []\n",
    "\n",
    "rundate"
   ]
  },
  {
   "cell_type": "code",
   "execution_count": 5,
   "metadata": {},
   "outputs": [],
   "source": [
    "split = arrow.get(dt.datetime(2019, 7, 1))\n",
    "def make_links(rundate, runlength):\n",
    "#     dir = '/results2/SalishSea/nowcast-green.201905/'\n",
    "    tardir = 'Links'\n",
    "    for grid in ['T', 'U', 'V', 'W']:\n",
    "        for fileno in range(runlength):\n",
    "            target = TARGET_TMPL.format(fileno+1, grid)\n",
    "            date = rundate.shift(days=+fileno).datetime #shifting the date by one at each runlength??\n",
    "            if date < split:\n",
    "                dir = '/results/SalishSea/nowcast-green.201802/'\n",
    "            else:\n",
    "                dir = '/results2/SalishSea/nowcast-green.201802/'\n",
    "            link = FILENAME_TMPL.format(date, date, grid)\n",
    "            subdir = SUBDIR_TMPL.format(date).lower()\n",
    "            symlinks.append(target)\n",
    "            links.append(link)\n",
    "            \n",
    "    return symlinks, links\n",
    "    "
   ]
  },
  {
   "cell_type": "code",
   "execution_count": 6,
   "metadata": {},
   "outputs": [],
   "source": [
    "symlinks, links = make_links(rundate, runlength)"
   ]
  },
  {
   "cell_type": "code",
   "execution_count": 7,
   "metadata": {},
   "outputs": [],
   "source": [
    "search = ['201901', '201902', '201903', '201904', '201905', '201906', '201907', '201908', '201909', '201910', '201911', '201912', '202001']"
   ]
  },
  {
   "cell_type": "code",
   "execution_count": 8,
   "metadata": {},
   "outputs": [
    {
     "name": "stdout",
     "output_type": "stream",
     "text": [
      "31.0\n",
      "28.0\n",
      "31.0\n",
      "30.0\n",
      "31.0\n",
      "30.0\n",
      "31.0\n",
      "31.0\n",
      "30.0\n",
      "31.0\n",
      "30.0\n",
      "31.0\n",
      "30.0\n"
     ]
    }
   ],
   "source": [
    "for s in search:\n",
    "    k = 0\n",
    "    for i in range(len(links)):\n",
    "        k += links[i].count(s)\n",
    "    k = k/2/4\n",
    "    print(k)\n",
    "\n",
    "# symlinks"
   ]
  },
  {
   "cell_type": "code",
   "execution_count": null,
   "metadata": {},
   "outputs": [],
   "source": []
  }
 ],
 "metadata": {
  "kernelspec": {
   "display_name": "Python 3.10.6 ('analysis-camryn')",
   "language": "python",
   "name": "python3"
  },
  "language_info": {
   "codemirror_mode": {
    "name": "ipython",
    "version": 3
   },
   "file_extension": ".py",
   "mimetype": "text/x-python",
   "name": "python",
   "nbconvert_exporter": "python",
   "pygments_lexer": "ipython3",
   "version": "3.10.6"
  },
  "orig_nbformat": 4,
  "vscode": {
   "interpreter": {
    "hash": "45037fb5df905fe0ec215a1f079d5355b535b26f32fb585b4920c91cfb7d4d84"
   }
  }
 },
 "nbformat": 4,
 "nbformat_minor": 2
}
