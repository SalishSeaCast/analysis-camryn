{
 "cells": [
  {
   "cell_type": "code",
   "execution_count": 1,
   "metadata": {},
   "outputs": [],
   "source": [
    "import numpy as np\n",
    "import matplotlib.pyplot as plt\n",
    "import xarray as xr\n",
    "import pandas as pd\n",
    "pd.options.mode.chained_assignment = None  # default='warn'\n",
    "import cmocean.cm as cm\n",
    "import cartopy.crs as ccrs\n",
    "import os\n",
    "import re\n",
    "import glob\n",
    "import gsw"
   ]
  },
  {
   "cell_type": "markdown",
   "metadata": {},
   "source": [
    "### Import data"
   ]
  },
  {
   "cell_type": "markdown",
   "metadata": {},
   "source": [
    "#### Converting IOS data"
   ]
  },
  {
   "cell_type": "code",
   "execution_count": 4,
   "metadata": {},
   "outputs": [
    {
     "name": "stderr",
     "output_type": "stream",
     "text": [
      "/tmp/ipykernel_23543/810146171.py:2: DtypeWarning: Columns (10) have mixed types. Specify dtype option on import or set low_memory=False.\n",
      "  data = pd.read_csv(filepath,skiprows=[1])\n"
     ]
    }
   ],
   "source": [
    "filepath = '/ocean/cstang/MOAD/analysis-camryn/notebooks/model_evals/obs/IOS_CTD_profiles_ssog2.csv'\n",
    "data = pd.read_csv(filepath,skiprows=[1])\n",
    "\n",
    "# data['time1'] = pd.to_datetime(data['time'])\n",
    "# Converting to SA from PS (PSS-78), pressure in dbar\n",
    "data['SA'] = gsw.conversions.SA_from_SP(data['PSALST01'].values, data['sea_water_pressure'].values, data['longitude'].values, data['latitude'].values)\n",
    "\n",
    "# Converting to conservative temperature, input salinity as absolute salinity (SA) \n",
    "data['consT']= gsw.conversions.CT_from_t(data['SA'].values,data['sea_water_temperature'].values,data['sea_water_pressure'].values)"
   ]
  },
  {
   "cell_type": "code",
   "execution_count": 5,
   "metadata": {},
   "outputs": [],
   "source": [
    "#Save files with converted data\n",
    "\n",
    "data.to_csv('/ocean/cstang/MOAD/analysis-camryn/notebooks/model_evals/obs/CIOOS/IOS_CTD_profiles_ssog2_SA_consT.csv',index=False)"
   ]
  },
  {
   "cell_type": "markdown",
   "metadata": {},
   "source": [
    "#### Converting ONC data"
   ]
  },
  {
   "cell_type": "code",
   "execution_count": 37,
   "metadata": {},
   "outputs": [],
   "source": [
    "filepath = '/ocean/cstang/MOAD/analysis-camryn/notebooks/model_evals/obs/onc_BP_CTD_2021.csv'\n",
    "data_onc = pd.read_csv(filepath,skiprows=[1])\n",
    "\n",
    "# Salinity already SA -> salinity\n",
    "#temp in Kelvin -> convert to CT\n",
    "# Converting to conservative temperature, input salinity as absolute salinity (SA) \n",
    "data_onc['consT']= gsw.conversions.CT_from_t(data_onc['salinity'].values,data_onc['temperature'].values-273.15,data_onc['pressure'].values)"
   ]
  },
  {
   "cell_type": "code",
   "execution_count": 30,
   "metadata": {},
   "outputs": [],
   "source": [
    "#Save files with converted data\n",
    "\n",
    "data_onc.to_csv('/ocean/cstang/MOAD/analysis-camryn/notebooks/model_evals/obs/ONC/onc_BP_CTD_2021_consT.csv',index=False)"
   ]
  },
  {
   "cell_type": "markdown",
   "metadata": {},
   "source": [
    "### Converting NANOOS data"
   ]
  },
  {
   "cell_type": "code",
   "execution_count": 21,
   "metadata": {},
   "outputs": [],
   "source": [
    "filepath = '/ocean/cstang/MOAD/analysis-camryn/notebooks/model_evals/obs/rosario_phys_2024.csv'\n",
    "data = pd.read_csv(filepath)\n",
    "\n",
    "# Converting to SA from PS (PSS-78), pressure in dbar\n",
    "data['SA'] = gsw.conversions.SA_from_SP(data['salinity'].values, data['depth'].values, data['longitude'].values, data['latitude'].values)\n",
    "\n",
    "# Converting to conservative temperature, input salinity as absolute salinity (SA) \n",
    "data['consT']= gsw.conversions.CT_from_t(data['SA'].values,data['temperature'].values,data['depth'].values)"
   ]
  },
  {
   "cell_type": "code",
   "execution_count": 22,
   "metadata": {},
   "outputs": [],
   "source": [
    "data.to_csv('/ocean/cstang/MOAD/analysis-camryn/notebooks/model_evals/obs/NANOOS/rosario_phys_2024_SA_consT.csv',index=False)"
   ]
  }
 ],
 "metadata": {
  "kernelspec": {
   "display_name": "Python 3.10.6 ('analysis-camryn')",
   "language": "python",
   "name": "python3"
  },
  "language_info": {
   "codemirror_mode": {
    "name": "ipython",
    "version": 3
   },
   "file_extension": ".py",
   "mimetype": "text/x-python",
   "name": "python",
   "nbconvert_exporter": "python",
   "pygments_lexer": "ipython3",
   "version": "3.10.6"
  },
  "orig_nbformat": 4,
  "vscode": {
   "interpreter": {
    "hash": "45037fb5df905fe0ec215a1f079d5355b535b26f32fb585b4920c91cfb7d4d84"
   }
  }
 },
 "nbformat": 4,
 "nbformat_minor": 2
}
